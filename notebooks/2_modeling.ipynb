{
 "cells": [
  {
   "cell_type": "code",
   "execution_count": null,
   "metadata": {},
   "outputs": [],
   "source": [
    "from pycaret.classification import *\n",
    "from sklearn.preprocessing import MinMaxScaler\n",
    "\n",
    "import pandas as pd\n",
    "pd.set_option('display.max_columns', None)\n",
    "pd.set_option('display.max_rows', None)\n",
    "import numpy as np\n",
    "\n",
    "import sys\n",
    "sys.path.insert(1, '../utils')\n",
    "from run_models.train_predict import train_model, calification_model\n",
    "from outliers.outlier import outlier"
   ]
  },
  {
   "cell_type": "code",
   "execution_count": null,
   "metadata": {},
   "outputs": [],
   "source": [
    "experiment_name = 'experiment_3_4'"
   ]
  },
  {
   "cell_type": "markdown",
   "metadata": {},
   "source": [
    "## Lectura de Datos"
   ]
  },
  {
   "cell_type": "code",
   "execution_count": null,
   "metadata": {},
   "outputs": [],
   "source": [
    "data  = pd.read_csv(r\"..\\data\\{}\\pmod_base_model.csv\".format(experiment_name))\n",
    "data.head()"
   ]
  },
  {
   "cell_type": "code",
   "execution_count": null,
   "metadata": {},
   "outputs": [],
   "source": [
    "print(\"Cantidad de valores:\", data.shape)\n",
    "print(\"Cantidad de datos con valores infinitos: \", (data.isin([np.inf, -np.inf]).sum()).sum())\n",
    "print(\"Cantidad de datos con valores nulos: \", (data.isna().sum()).sum())\n",
    "print(\"Cantidad de datos con valores negativos: \", ((data.drop(columns=[\"marca_pago\"]) < 0).sum()).sum())"
   ]
  },
  {
   "cell_type": "code",
   "execution_count": null,
   "metadata": {},
   "outputs": [],
   "source": [
    "data[\"marca_pago\"] = data[\"marca_pago\"].fillna(\"NA\")\n",
    "data.shape"
   ]
  },
  {
   "cell_type": "code",
   "execution_count": null,
   "metadata": {},
   "outputs": [],
   "source": [
    "data_model = data[data[\"fecha_var_rpta_alt\"] < 202401]\n",
    "data_oot = data[data[\"fecha_var_rpta_alt\"] == 202401]"
   ]
  },
  {
   "cell_type": "code",
   "execution_count": null,
   "metadata": {},
   "outputs": [],
   "source": [
    "print(\"Cantidad de valores:\", data_model.shape)\n",
    "print(\"Cantidad de datos con valores infinitos: \", (data_model.isin([np.inf, -np.inf]).sum()).sum())\n",
    "print(\"Cantidad de datos con valores nulos: \", (data_model.isna().sum()).sum())\n",
    "print(\"Cantidad de datos con valores negativos: \", ((data_model.drop(columns=[\"marca_pago\"]) < 0).sum()).sum())"
   ]
  },
  {
   "cell_type": "code",
   "execution_count": null,
   "metadata": {},
   "outputs": [],
   "source": [
    "encoding_dict = data_model[\"marca_pago\"].value_counts(normalize=True).to_dict()\n",
    "data_model[\"marca_pago\"] = data_model[\"marca_pago\"].map(encoding_dict)\n",
    "data_model[\"marca_pago\"].value_counts()"
   ]
  },
  {
   "cell_type": "code",
   "execution_count": null,
   "metadata": {},
   "outputs": [],
   "source": [
    "MM = MinMaxScaler()\n",
    "data_model_norm = MM.fit_transform(data_model.drop(columns=['nit_enmascarado', 'num_oblig_enmascarado',\n",
    "                                                            'num_oblig_orig_enmascarado', 'fecha_var_rpta_alt', \n",
    "                                                            'var_rpta_alt',]))\n",
    "data_model_norm = pd.DataFrame(data_model_norm, columns=data_model.columns[5:])\n",
    "data_model_norm[\"var_rpta_alt\"] = data_model[\"var_rpta_alt\"].values\n",
    "data_model_norm.head()"
   ]
  },
  {
   "cell_type": "code",
   "execution_count": null,
   "metadata": {},
   "outputs": [],
   "source": [
    "df_outliers = outlier(data_model_norm)\n",
    "data_model_norm = df_outliers.reset_index(drop=True)\n",
    "print(data_model_norm.shape)\n",
    "data_model_norm.head()"
   ]
  },
  {
   "cell_type": "markdown",
   "metadata": {},
   "source": [
    "## Entrenar Modelo"
   ]
  },
  {
   "cell_type": "code",
   "execution_count": null,
   "metadata": {},
   "outputs": [],
   "source": [
    "\n",
    "models = ['xgboost', 'lightgbm']\n",
    "best_model = train_model(data_model_norm, \"var_rpta_alt\", models)"
   ]
  },
  {
   "cell_type": "code",
   "execution_count": null,
   "metadata": {},
   "outputs": [],
   "source": [
    "best_model = best_model[0]\n",
    "print(best_model)"
   ]
  },
  {
   "cell_type": "markdown",
   "metadata": {},
   "source": [
    "## Tunear Modelo"
   ]
  },
  {
   "cell_type": "code",
   "execution_count": null,
   "metadata": {},
   "outputs": [],
   "source": [
    "params = {\n",
    "    'n_estimators' : [400, 450],\n",
    "    'max_depth' : [9,10],\n",
    "    'learning_rate' : [.1],\n",
    "    'objective' : ['reg:squarederror'],\n",
    "}\n",
    "\n",
    "best_model_tuned = tune_model(best_model, fold=5, custom_grid=params, optimize='F1')\n",
    "print(best_model_tuned)"
   ]
  },
  {
   "cell_type": "code",
   "execution_count": null,
   "metadata": {},
   "outputs": [],
   "source": [
    "plot_model(best_model_tuned, plot='feature')\n",
    "plot_model(best_model_tuned, plot = 'auc')\n",
    "plot_model(best_model_tuned, plot = 'confusion_matrix')"
   ]
  },
  {
   "cell_type": "markdown",
   "metadata": {},
   "source": [
    "## Calificar"
   ]
  },
  {
   "cell_type": "code",
   "execution_count": null,
   "metadata": {},
   "outputs": [],
   "source": [
    "data_calification = data_oot\n",
    "data_calification[\"marca_pago\"] = data_calification[\"marca_pago\"].map(encoding_dict)\n",
    "data_calification.head()"
   ]
  },
  {
   "cell_type": "code",
   "execution_count": null,
   "metadata": {},
   "outputs": [],
   "source": [
    "vars_model = data_model_norm.columns\n",
    "vars_model[:-1]"
   ]
  },
  {
   "cell_type": "code",
   "execution_count": null,
   "metadata": {},
   "outputs": [],
   "source": [
    "data_calification = calification_model(best_model_tuned, data_calification, vars_model[:-1], scaler = MM)\n",
    "data_calification.head()"
   ]
  },
  {
   "cell_type": "code",
   "execution_count": null,
   "metadata": {},
   "outputs": [],
   "source": [
    "data_calification[\"ID\"] = data_calification[\"nit_enmascarado\"].astype(str) + \"#\" + data_calification[\"num_oblig_orig_enmascarado\"].astype(str) + \"#\" + data_calification[\"num_oblig_enmascarado\"].astype(str)\n",
    "new_dataframe = data_calification[[\"ID\", \"var_rpta_alt\"]]\n",
    "print(new_dataframe.isna().sum())\n",
    "new_dataframe.to_csv(r\"..\\data\\{}\\pmod_base_model_calification.csv\".format(experiment_name), index=False)"
   ]
  }
 ],
 "metadata": {
  "kernelspec": {
   "display_name": "venv",
   "language": "python",
   "name": "python3"
  },
  "language_info": {
   "codemirror_mode": {
    "name": "ipython",
    "version": 3
   },
   "file_extension": ".py",
   "mimetype": "text/x-python",
   "name": "python",
   "nbconvert_exporter": "python",
   "pygments_lexer": "ipython3",
   "version": "3.9.12"
  }
 },
 "nbformat": 4,
 "nbformat_minor": 2
}
