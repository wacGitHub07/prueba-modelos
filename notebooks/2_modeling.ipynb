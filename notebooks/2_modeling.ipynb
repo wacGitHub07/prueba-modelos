{
 "cells": [
  {
   "cell_type": "code",
   "execution_count": null,
   "metadata": {},
   "outputs": [],
   "source": [
    "from pycaret.classification import *\n",
    "from sklearn.preprocessing import MinMaxScaler\n",
    "\n",
    "import pandas as pd\n",
    "pd.set_option('display.max_columns', None)\n",
    "pd.set_option('display.max_rows', None)\n",
    "import numpy as np\n",
    "\n",
    "import sys\n",
    "sys.path.insert(1, '../utils')\n",
    "from run_models.train_predict import train_model, calification_model\n",
    "from outliers.outlier import outlier"
   ]
  },
  {
   "cell_type": "code",
   "execution_count": null,
   "metadata": {},
   "outputs": [],
   "source": [
    "experiment_name = 'experiment_5'"
   ]
  },
  {
   "cell_type": "markdown",
   "metadata": {},
   "source": [
    "## Lectura de Datos"
   ]
  },
  {
   "cell_type": "code",
   "execution_count": null,
   "metadata": {},
   "outputs": [],
   "source": [
    "data  = pd.read_csv(r\"..\\data\\{}\\pmod_base_model.csv\".format(experiment_name))\n",
    "data.head()"
   ]
  },
  {
   "cell_type": "code",
   "execution_count": null,
   "metadata": {},
   "outputs": [],
   "source": [
    "print(\"Cantidad de valores:\", data.shape)\n",
    "print(\"Cantidad de datos con valores infinitos: \", (data.isin([np.inf, -np.inf]).sum()).sum())\n",
    "print(\"Cantidad de datos con valores nulos: \", (data.isna().sum()).sum())\n",
    "print(\"Cantidad de datos con valores negativos: \", ((data.drop(columns=[\"marca_pago\", \"ajustes_banco\"]) < 0).sum()).sum())"
   ]
  },
  {
   "cell_type": "code",
   "execution_count": null,
   "metadata": {},
   "outputs": [],
   "source": [
    "data_model = data[data[\"fecha_var_rpta_alt\"] < 202401]\n",
    "data_oot = data[data[\"fecha_var_rpta_alt\"] == 202401]"
   ]
  },
  {
   "cell_type": "markdown",
   "metadata": {},
   "source": [
    "## Encoding variables categoricas"
   ]
  },
  {
   "cell_type": "code",
   "execution_count": null,
   "metadata": {},
   "outputs": [],
   "source": [
    "print(data_model[\"marca_pago\"].value_counts(normalize=True).to_dict())\n",
    "encoding_dict_mp = data_model[\"marca_pago\"].value_counts(normalize=True).to_dict()\n",
    "data_model[\"marca_pago\"] = data_model[\"marca_pago\"].map(encoding_dict_mp)\n",
    "data_model[\"marca_pago\"].value_counts()"
   ]
  },
  {
   "cell_type": "code",
   "execution_count": null,
   "metadata": {},
   "outputs": [],
   "source": [
    "print(data_model[\"ajustes_banco\"].value_counts(normalize=True).to_dict())\n",
    "encoding_dict_ab = data_model[\"ajustes_banco\"].value_counts(normalize=True).to_dict()\n",
    "data_model[\"ajustes_banco\"] = data_model[\"ajustes_banco\"].map(encoding_dict_ab)\n",
    "data_model[\"ajustes_banco\"].value_counts()"
   ]
  },
  {
   "cell_type": "code",
   "execution_count": null,
   "metadata": {},
   "outputs": [],
   "source": [
    "print(data_model[\"lote\"].value_counts(normalize=True).to_dict())\n",
    "encoding_dict_lt = data_model[\"lote\"].value_counts(normalize=True).to_dict()\n",
    "data_model[\"lote\"] = data_model[\"lote\"].map(encoding_dict_lt)\n",
    "data_model[\"lote\"].value_counts()"
   ]
  },
  {
   "cell_type": "markdown",
   "metadata": {},
   "source": [
    "## Escalamiento de variables"
   ]
  },
  {
   "cell_type": "code",
   "execution_count": null,
   "metadata": {},
   "outputs": [],
   "source": [
    "MM = MinMaxScaler()\n",
    "data_model_norm = MM.fit_transform(data_model.drop(columns=['nit_enmascarado', 'num_oblig_enmascarado',\n",
    "                                                            'num_oblig_orig_enmascarado', 'fecha_var_rpta_alt', \n",
    "                                                            'var_rpta_alt','marca_pago', 'ajustes_banco', 'lote']))\n",
    "data_model_norm = pd.DataFrame(data_model_norm, columns=data_model.drop(columns=['nit_enmascarado', 'num_oblig_enmascarado',\n",
    "                                                            'num_oblig_orig_enmascarado', 'fecha_var_rpta_alt', \n",
    "                                                            'var_rpta_alt','marca_pago', 'ajustes_banco', 'lote']).columns)\n",
    "data_model_norm[\"var_rpta_alt\"] = data_model[\"var_rpta_alt\"].values\n",
    "data_model_norm[\"marca_pago\"] = data_model[\"marca_pago\"].values\n",
    "data_model_norm[\"ajustes_banco\"] = data_model[\"ajustes_banco\"].values\n",
    "data_model_norm[\"lote\"] = data_model[\"lote\"].values\n",
    "data_model_norm.head()"
   ]
  },
  {
   "cell_type": "markdown",
   "metadata": {},
   "source": [
    "## Eliminación de atípicos"
   ]
  },
  {
   "cell_type": "code",
   "execution_count": null,
   "metadata": {},
   "outputs": [],
   "source": [
    "df_outliers = outlier(data_model_norm)\n",
    "data_model_norm = df_outliers.reset_index(drop=True)\n",
    "print(data_model_norm.shape)\n",
    "data_model_norm.head()"
   ]
  },
  {
   "cell_type": "markdown",
   "metadata": {},
   "source": [
    "## Entrenar Modelo"
   ]
  },
  {
   "cell_type": "code",
   "execution_count": null,
   "metadata": {},
   "outputs": [],
   "source": [
    "\n",
    "models = ['xgboost']\n",
    "best_model = train_model(data_model_norm, \"var_rpta_alt\", models)"
   ]
  },
  {
   "cell_type": "code",
   "execution_count": null,
   "metadata": {},
   "outputs": [],
   "source": [
    "best_model = best_model\n",
    "print(best_model)"
   ]
  },
  {
   "cell_type": "markdown",
   "metadata": {},
   "source": [
    "## Tunear Modelo"
   ]
  },
  {
   "cell_type": "code",
   "execution_count": null,
   "metadata": {},
   "outputs": [],
   "source": [
    "params = {\n",
    "    'n_estimators': [100, 200],\n",
    "    'max_depth': [5, 7],\n",
    "    'learning_rate': [0.1, 0.2],\n",
    "    'subsample': [0.8, 1],\n",
    "    'colsample_bytree': [0.8, 1]\n",
    "}\n",
    "\n",
    "best_model_tuned = tune_model(best_model, fold=5, custom_grid=params, optimize='F1')\n",
    "print(best_model_tuned)"
   ]
  },
  {
   "cell_type": "code",
   "execution_count": null,
   "metadata": {},
   "outputs": [],
   "source": [
    "plot_model(best_model_tuned, plot='feature')\n",
    "plot_model(best_model_tuned, plot = 'auc')\n",
    "plot_model(best_model_tuned, plot = 'confusion_matrix')"
   ]
  },
  {
   "cell_type": "markdown",
   "metadata": {},
   "source": [
    "## Calificar"
   ]
  },
  {
   "cell_type": "code",
   "execution_count": null,
   "metadata": {},
   "outputs": [],
   "source": [
    "data_oot.head()"
   ]
  },
  {
   "cell_type": "code",
   "execution_count": null,
   "metadata": {},
   "outputs": [],
   "source": [
    "data_calification = data_oot.copy()\n",
    "data_calification[\"marca_pago\"] = data_oot[\"marca_pago\"].map(encoding_dict_mp)\n",
    "data_calification[\"ajustes_banco\"] = data_oot[\"ajustes_banco\"].map(encoding_dict_ab)\n",
    "data_calification[\"var_rpta_alt\"] = data_oot[\"var_rpta_alt\"].map(encoding_dict_lt)\n",
    "data_calification.head()"
   ]
  },
  {
   "cell_type": "code",
   "execution_count": null,
   "metadata": {},
   "outputs": [],
   "source": [
    "vars_model = data_model_norm.columns\n",
    "vars_no_scaler = ['var_rpta_alt','marca_pago', 'ajustes_banco', 'lote']"
   ]
  },
  {
   "cell_type": "code",
   "execution_count": null,
   "metadata": {},
   "outputs": [],
   "source": [
    "\n",
    "data_calification_ = data_calification[vars_model].drop(columns=vars_no_scaler)\n",
    "    \n",
    "data_calification_norm = data_calification_\n",
    "data_calification_norm = MM.transform(data_calification_norm.values)\n",
    "data_calification_norm = pd.DataFrame(data_calification_norm, columns=data_calification_.columns)"
   ]
  },
  {
   "cell_type": "code",
   "execution_count": null,
   "metadata": {},
   "outputs": [],
   "source": [
    "data_calification_norm[\"marca_pago\"] = data_calification[\"marca_pago\"].values\n",
    "data_calification_norm[\"ajustes_banco\"] = data_calification[\"ajustes_banco\"].values\n",
    "data_calification_norm[\"lote\"] = data_calification[\"lote\"].values\n",
    "data_calification_norm.head()"
   ]
  },
  {
   "cell_type": "code",
   "execution_count": null,
   "metadata": {},
   "outputs": [],
   "source": [
    "\n",
    "predictios = predict_model(best_model_tuned, data=data_calification_norm[best_model_tuned.feature_names_in_], raw_score=True)\n",
    "data_calification[\"var_rpta_alt\"] = predictios[\"prediction_label\"].values\n",
    "data_calification[\"Prob_uno\"] = predictios[\"prediction_score_1\"].values\n",
    "data_calification.head()"
   ]
  },
  {
   "cell_type": "markdown",
   "metadata": {},
   "source": [
    "### Archivo submit"
   ]
  },
  {
   "cell_type": "code",
   "execution_count": null,
   "metadata": {},
   "outputs": [],
   "source": [
    "data_calification[\"ID\"] = data_calification[\"nit_enmascarado\"].astype(str) + \"#\" + data_calification[\"num_oblig_orig_enmascarado\"].astype(str) + \"#\" + data_calification[\"num_oblig_enmascarado\"].astype(str)\n",
    "new_dataframe = data_calification[[\"ID\", \"var_rpta_alt\"]]\n",
    "print(new_dataframe.isna().sum())\n",
    "new_dataframe.to_csv(r\"..\\data\\{}\\pmod_base_model_calification.csv\".format(experiment_name), index=False)"
   ]
  },
  {
   "cell_type": "markdown",
   "metadata": {},
   "source": [
    "### Archivo Entrega"
   ]
  },
  {
   "cell_type": "code",
   "execution_count": null,
   "metadata": {},
   "outputs": [],
   "source": [
    "data_calification[\"ID\"] = data_calification[\"nit_enmascarado\"].astype(str) + \"#\" + data_calification[\"num_oblig_orig_enmascarado\"].astype(str) + \"#\" + data_calification[\"num_oblig_enmascarado\"].astype(str)\n",
    "new_dataframe = data_calification[[\"ID\", \"var_rpta_alt\", \"Prob_uno\"]]\n",
    "print(new_dataframe.isna().sum())\n",
    "new_dataframe.to_csv(r\"..\\documentacion\\pmod_base_model_calification.csv\", index=False)"
   ]
  },
  {
   "cell_type": "markdown",
   "metadata": {},
   "source": [
    "### Almacenar modelo"
   ]
  },
  {
   "cell_type": "code",
   "execution_count": null,
   "metadata": {},
   "outputs": [],
   "source": [
    "save_model(best_model_tuned, 'models/best_model_tuned')"
   ]
  },
  {
   "cell_type": "code",
   "execution_count": null,
   "metadata": {},
   "outputs": [],
   "source": [
    "import joblib\n",
    "scaler_filename = \"models/scaler_mm.save\"\n",
    "joblib.dump(MM, scaler_filename) "
   ]
  },
  {
   "cell_type": "code",
   "execution_count": null,
   "metadata": {},
   "outputs": [],
   "source": [
    "best_model_tuned.feature_names_in_"
   ]
  }
 ],
 "metadata": {
  "kernelspec": {
   "display_name": "venv",
   "language": "python",
   "name": "python3"
  },
  "language_info": {
   "codemirror_mode": {
    "name": "ipython",
    "version": 3
   },
   "file_extension": ".py",
   "mimetype": "text/x-python",
   "name": "python",
   "nbconvert_exporter": "python",
   "pygments_lexer": "ipython3",
   "version": "3.9.12"
  }
 },
 "nbformat": 4,
 "nbformat_minor": 2
}
