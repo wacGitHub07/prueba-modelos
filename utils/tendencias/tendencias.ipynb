{
 "cells": [
  {
   "cell_type": "code",
   "execution_count": 1,
   "metadata": {},
   "outputs": [],
   "source": [
    "from helper.helper import Helper"
   ]
  },
  {
   "cell_type": "code",
   "execution_count": 2,
   "metadata": {},
   "outputs": [
    {
     "name": "stderr",
     "output_type": "stream",
     "text": [
      "2024-06-23 10:44:53 - [WARNING] - No se encontro la carpeta \"c:\\Banco\\Prueba Modelos\\prueba-modelos\\utils\\tendencias\\logs\" para guardar los logs\n"
     ]
    },
    {
     "name": "stdout",
     "output_type": "stream",
     "text": [
      " ___ __  __ ____   _    _        _    \n",
      "|_ _|  \\/  |  _ \\ / \\  | |      / \\   \n",
      " | || |\\/| | |_) / _ \\ | |     / _ \\  \n",
      " | || |  | |  __/ ___ \\| |___ / ___ \\ \n",
      "|___|_|  |_|_| /_/   \\_\\_____/_/   \\_\\\n",
      "                                      \n",
      " _   _ _____ _     ____  _____ ____  \n",
      "| | | | ____| |   |  _ \\| ____|  _ \\ \n",
      "| |_| |  _| | |   | |_) |  _| | |_) |\n",
      "|  _  | |___| |___|  __/| |___|  _ < \n",
      "|_| |_|_____|_____|_|   |_____|_| \\_\\\n",
      "                                     \n",
      "\n"
     ]
    }
   ],
   "source": [
    "general_params = {\n",
    "    'proccess_zone': 'proceso',\n",
    "    'proccess_area_zone': 'proceso_cap_analit_y_gob_de_inf',\n",
    "    'pref': 'pmod'\n",
    "}\n",
    "helper = Helper(username='warboled', dsn='impala-virtual-prd')"
   ]
  },
  {
   "cell_type": "code",
   "execution_count": 10,
   "metadata": {},
   "outputs": [],
   "source": [
    "params_tend = general_params\n",
    "\n",
    "params_tend['vars_agrupa'] = \",\".join([\"nit_enmascarado\",\"num_oblig_enmascarado\",\"num_oblig_orig_enmascarado\",\"fecha_var_rpta_alt\"])\n",
    "params_tend['table_base'] = \"{}.pmod_obligaciones\".format(general_params[\"proccess_zone\"])\n",
    "params_tend['pref'] = general_params[\"pref\"]"
   ]
  },
  {
   "cell_type": "markdown",
   "metadata": {},
   "source": [
    "### Tendencias maestro cuotas"
   ]
  },
  {
   "cell_type": "code",
   "execution_count": 11,
   "metadata": {},
   "outputs": [
    {
     "name": "stdout",
     "output_type": "stream",
     "text": [
      "---------------------------------------------------------------------------------\n",
      "                              0_pmod_tabla_base.sql                              \n",
      "---------------------------------------------------------------------------------\n",
      "  i   tipo              nombre               estado     hora_inicio   duracion   \n",
      "---------------------------------------------------------------------------------\n",
      " 4/6    DROP proceso.pmod_tend_tabla_base   finalizado   11:05:41 AM     00:00.0 \n",
      " 5/6  CREATE proceso.pmod_tend_tabla_base   finalizado   11:05:41 AM     00:01.3 \n",
      " 6/6 COMPUTE proceso.pmod_tend_tabla_base   finalizado   11:05:42 AM     00:01.2 \n",
      "---------------------------------------------------------------------------------\n",
      "\n",
      "Resumen de consultas:\n",
      "------------------------------------------\n",
      "      documento        total    duracion \n",
      "------------------------------------------\n",
      " 0_pmod_tabla_base.sql      6     00:04.4 \n",
      "------------------------------------------\n",
      "\n"
     ]
    }
   ],
   "source": [
    "helper.ejecutar_archivo('0_pmod_tabla_base.sql', params=params_tend)"
   ]
  },
  {
   "cell_type": "code",
   "execution_count": 18,
   "metadata": {},
   "outputs": [],
   "source": [
    "vars_tend = [\n",
    "    \"valor_cuota_mes\",\n",
    "    \"pago_total\",\n",
    "    \"porc_pago\"\n",
    "]\n",
    "\n",
    "params_tend[\"table_vars\"] = \"proceso.pmod_maestro_cuotas_obligaciones\"\n",
    "\n",
    "join = \"\"\"\n",
    "    t1.nit_enmascarado = t2.nit_enmascarado\n",
    "    AND t1.num_oblig_enmascarado = t2.num_oblig_enmascarado\n",
    "    AND t1.num_oblig_orig_enmascarado = t2.num_oblig_orig_enmascarado\n",
    "    AND t1.fecha_var_rpta_alt = t2.fecha_var_rpta_alt\n",
    "\"\"\"\n",
    "params_tend[\"join\"] = join"
   ]
  },
  {
   "cell_type": "code",
   "execution_count": 22,
   "metadata": {},
   "outputs": [
    {
     "name": "stdout",
     "output_type": "stream",
     "text": [
      "Calculando Tendencias:  valor_cuota_mes\n",
      "--------------------------------------------------------------------------------------\n",
      "                                1_pmod_tendencias.sql                                 \n",
      "--------------------------------------------------------------------------------------\n",
      "    i     tipo              nombre                estado     hora_inicio   duracion   \n",
      "--------------------------------------------------------------------------------------\n",
      "  92/119    DROP    proceso.pmod_tendencias_00   finalizado   11:16:09 AM     00:00.1 \n",
      "  93/119  CREATE    proceso.pmod_tendencias_00   finalizado   11:16:09 AM     00:01.1 \n",
      "  94/119 COMPUTE    proceso.pmod_tendencias_00   finalizado   11:16:10 AM     00:01.3 \n",
      "  95/119    DROP    proceso.pmod_tendencias_01   finalizado   11:16:11 AM     00:00.1 \n",
      "  96/119  CREATE    proceso.pmod_tendencias_01   finalizado   11:16:12 AM     00:01.1 \n",
      "  97/119 COMPUTE    proceso.pmod_tendencias_01   finalizado   11:16:13 AM     00:00.8 \n",
      "  98/119    DROP    proceso.pmod_tendencias_02   finalizado   11:16:14 AM     00:00.1 \n",
      "  99/119  CREATE    proceso.pmod_tendencias_02   finalizado   11:16:14 AM     00:00.7 \n",
      " 100/119 COMPUTE    proceso.pmod_tendencias_02   finalizado   11:16:15 AM     00:00.5 \n",
      " 101/119    DROP    proceso.pmod_tendencias_03   finalizado   11:16:15 AM     00:00.1 \n",
      " 102/119  CREATE    proceso.pmod_tendencias_03   finalizado   11:16:15 AM     00:00.4 \n",
      " 103/119 COMPUTE    proceso.pmod_tendencias_03   finalizado   11:16:16 AM     00:02.1 \n",
      " 104/119    DROP    proceso.pmod_tendencias_04   finalizado   11:16:18 AM     00:00.1 \n",
      " 105/119  CREATE    proceso.pmod_tendencias_04   finalizado   11:16:18 AM     00:00.8 \n",
      " 106/119 COMPUTE    proceso.pmod_tendencias_04   finalizado   11:16:19 AM     00:00.5 \n",
      " 107/119    DROP       proceso.pmod_tendencias   finalizado   11:16:20 AM     00:00.1 \n",
      " 108/119  CREATE       proceso.pmod_tendencias   finalizado   11:16:20 AM     00:04.6 \n",
      " 109/119 COMPUTE       proceso.pmod_tendencias   finalizado   11:16:24 AM     00:01.2 \n",
      " 110/119    DROP proceso.pmod_tend_tabla_base_   finalizado   11:16:26 AM     00:00.0 \n",
      " 111/119  CREATE proceso.pmod_tend_tabla_base_   finalizado   11:16:26 AM     00:02.0 \n",
      " 112/119 COMPUTE proceso.pmod_tend_tabla_base_   finalizado   11:16:28 AM     00:01.1 \n",
      " 113/119    DROP  proceso.pmod_tend_tabla_base   finalizado   11:16:29 AM     00:00.1 \n",
      " 114/119   ALTER proceso.pmod_tend_tabla_base_        error   11:16:29 AM     00:00.0 \n",
      " 115/119    DROP    proceso.pmod_tendencias_00    pendiente                           \n",
      " 116/119    DROP    proceso.pmod_tendencias_01    pendiente                           \n",
      " 117/119    DROP    proceso.pmod_tendencias_02    pendiente                           \n",
      " 118/119    DROP    proceso.pmod_tendencias_03    pendiente                           \n",
      " 119/119    DROP    proceso.pmod_tendencias_04    pendiente                           \n",
      "--------------------------------------------------------------------------------------\n",
      "\n",
      "Resumen de consultas:\n",
      "-----------------------------------------------------\n",
      "      documento         estado    total    duracion \n",
      "-----------------------------------------------------\n",
      " 0_pmod_tabla_base.sql finalizado      4     00:04.4 \n",
      " 0_pmod_tabla_base.sql      error      1     00:00.0 \n",
      " 0_pmod_tabla_base.sql  pendiente      1     00:00.0 \n",
      " 1_pmod_tendencias.sql finalizado     73     01:09.1 \n",
      " 1_pmod_tendencias.sql      error      4     00:00.1 \n",
      " 1_pmod_tendencias.sql  pendiente     36     00:00.0 \n",
      "-----------------------------------------------------\n",
      "                     2          3    119     01:13.7 \n",
      "-----------------------------------------------------\n",
      "\n",
      "\n",
      "--------------------------------------------------------------------------------------\n",
      "Consulta que fallo:\n",
      "\n",
      "ALTER TABLE proceso.pmod_tend_tabla_base_ RENAME TO proceso.pmod_tend_tabla_base\n",
      "INVALIDATE METADATA proceso.pmod_tend_tabla_base;\n",
      "--------------------------------------------------------------------------------------\n",
      "\n",
      "--------------------------------------------------------------------------------------\n",
      "[HY000] [Cloudera][ImpalaODBC] (110) Error while executing a query in Impala: [HY000] : ParseException: Syntax error in line 2:\n",
      "INVALIDATE METADATA proceso.pmod_tend_tabla_base;\n",
      "^\n",
      "Encountered: INVALIDATE\n",
      "Expected: ADD, ALTER, AND, ARRAY, AS, ASC, BETWEEN, BIGINT, BINARY, BLOCK_SIZE, BOOLEAN, CACHED, CASCADE, CHANGE, CHAR, COMMENT, COMPRESSION, CROSS, DATE, DATETIME, DECIMAL, DEFAULT, DESC, DIV, REAL, DROP, ELSE, ENCODING, END, FLOAT, FOLLOWING, FROM, FULL, GROUP, IGNORE, HAVING, ILIKE, IN, INNER, INTEGER, IREGEXP, IS, JOIN, LEFT, LIKE, LIMIT, LOCATION, MANAGEDLOCATION, MAP, NOT, NULL, NULLS, OFFSET, ON, OR, ORDER, PARTITION, PARTITIONED, PRECEDING, PRIMARY, PURGE, RANGE, RECOVER, REGEXP, RENAME, REPLACE, RESTRICT, RIGHT, RLIKE, ROW, ROWS, SELECT, SET, SMALLINT, SORT, STORED, STRAIGHT_JOIN, STRING, STRUCT, TABLESAMPLE, TBLPROPERTIES, THEN, TIMESTAMP, TINYINT, TO, UNCACHED, UNION, USING, VALUES, VARCHAR, WHEN, WHERE, WITH, COMMA, IDENTIFIER\n",
      "\n",
      "CAUSED BY: Exception: Syntax error\n",
      " (110) (SQLExecDirectW)\n",
      "--------------------------------------------------------------------------------------\n"
     ]
    },
    {
     "ename": "Error",
     "evalue": "('HY000', '[HY000] [Cloudera][ImpalaODBC] (110) Error while executing a query in Impala: [HY000] : ParseException: Syntax error in line 2:\\nINVALIDATE METADATA proceso.pmod_tend_tabla_base;\\n^\\nEncountered: INVALIDATE\\nExpected: ADD, ALTER, AND, ARRAY, AS, ASC, BETWEEN, BIGINT, BINARY, BLOCK_SIZE, BOOLEAN, CACHED, CASCADE, CHANGE, CHAR, COMMENT, COMPRESSION, CROSS, DATE, DATETIME, DECIMAL, DEFAULT, DESC, DIV, REAL, DROP, ELSE, ENCODING, END, FLOAT, FOLLOWING, FROM, FULL, GROUP, IGNORE, HAVING, ILIKE, IN, INNER, INTEGER, IREGEXP, IS, JOIN, LEFT, LIKE, LIMIT, LOCATION, MANAGEDLOCATION, MAP, NOT, NULL, NULLS, OFFSET, ON, OR, ORDER, PARTITION, PARTITIONED, PRECEDING, PRIMARY, PURGE, RANGE, RECOVER, REGEXP, RENAME, REPLACE, RESTRICT, RIGHT, RLIKE, ROW, ROWS, SELECT, SET, SMALLINT, SORT, STORED, STRAIGHT_JOIN, STRING, STRUCT, TABLESAMPLE, TBLPROPERTIES, THEN, TIMESTAMP, TINYINT, TO, UNCACHED, UNION, USING, VALUES, VARCHAR, WHEN, WHERE, WITH, COMMA, IDENTIFIER\\n\\nCAUSED BY: Exception: Syntax error\\n (110) (SQLExecDirectW)')",
     "output_type": "error",
     "traceback": [
      "\u001b[1;31m---------------------------------------------------------------------------\u001b[0m",
      "\u001b[1;31mError\u001b[0m                                     Traceback (most recent call last)",
      "Cell \u001b[1;32mIn[22], line 4\u001b[0m\n\u001b[0;32m      2\u001b[0m \u001b[38;5;28mprint\u001b[39m(\u001b[38;5;124m\"\u001b[39m\u001b[38;5;124mCalculando Tendencias: \u001b[39m\u001b[38;5;124m\"\u001b[39m, var)\n\u001b[0;32m      3\u001b[0m params_tend[\u001b[38;5;124m'\u001b[39m\u001b[38;5;124mvariable\u001b[39m\u001b[38;5;124m'\u001b[39m] \u001b[38;5;241m=\u001b[39m var\n\u001b[1;32m----> 4\u001b[0m \u001b[43mhelper\u001b[49m\u001b[38;5;241;43m.\u001b[39;49m\u001b[43mejecutar_archivo\u001b[49m\u001b[43m(\u001b[49m\u001b[38;5;124;43m'\u001b[39;49m\u001b[38;5;124;43m1_pmod_tendencias.sql\u001b[39;49m\u001b[38;5;124;43m'\u001b[39;49m\u001b[43m,\u001b[49m\u001b[43m \u001b[49m\u001b[43mparams\u001b[49m\u001b[38;5;241;43m=\u001b[39;49m\u001b[43mparams_tend\u001b[49m\u001b[43m)\u001b[49m\n\u001b[0;32m      5\u001b[0m \u001b[38;5;28;01mbreak\u001b[39;00m\n",
      "File \u001b[1;32mc:\\Banco\\Prueba Modelos\\prueba-modelos\\venv\\lib\\site-packages\\helper\\helper.py:238\u001b[0m, in \u001b[0;36mHelper.ejecutar_archivo\u001b[1;34m(self, ruta, params, diagnostico)\u001b[0m\n\u001b[0;32m    236\u001b[0m \u001b[38;5;28;01mtry\u001b[39;00m:\n\u001b[0;32m    237\u001b[0m     \u001b[38;5;28mself\u001b[39m\u001b[38;5;241m.\u001b[39mlogger\u001b[38;5;241m.\u001b[39minicia_consulta(i)\n\u001b[1;32m--> 238\u001b[0m     \u001b[38;5;28;43mself\u001b[39;49m\u001b[38;5;241;43m.\u001b[39;49m\u001b[43m_ejecutar_consulta\u001b[49m\u001b[43m(\u001b[49m\u001b[43mcursor\u001b[49m\u001b[43m,\u001b[49m\u001b[43m \u001b[49m\u001b[43mi\u001b[49m\u001b[43m,\u001b[49m\u001b[43m \u001b[49m\u001b[43mconsulta\u001b[49m\u001b[43m,\u001b[49m\u001b[43m \u001b[49m\u001b[43mdiagnos\u001b[49m\u001b[38;5;241;43m=\u001b[39;49m\u001b[43mdiagnostico\u001b[49m\u001b[43m)\u001b[49m\n\u001b[0;32m    239\u001b[0m     \u001b[38;5;28mself\u001b[39m\u001b[38;5;241m.\u001b[39mlogger\u001b[38;5;241m.\u001b[39mfinaliza_consulta(i)\n\u001b[0;32m    240\u001b[0m \u001b[38;5;28;01mexcept\u001b[39;00m \u001b[38;5;167;01mException\u001b[39;00m \u001b[38;5;28;01mas\u001b[39;00m e:\n",
      "File \u001b[1;32mc:\\Banco\\Prueba Modelos\\prueba-modelos\\venv\\lib\\site-packages\\helper\\helper.py:1100\u001b[0m, in \u001b[0;36mHelper._ejecutar_consulta\u001b[1;34m(self, cursor, query_id, consulta, end, diagnos)\u001b[0m\n\u001b[0;32m   1097\u001b[0m     \u001b[38;5;28mself\u001b[39m\u001b[38;5;241m.\u001b[39m_diagnostico_consulta(cursor, consulta, query_id)\n\u001b[0;32m   1099\u001b[0m \u001b[38;5;66;03m# Ejecución de consulta\u001b[39;00m\n\u001b[1;32m-> 1100\u001b[0m res_consulta \u001b[38;5;241m=\u001b[39m \u001b[38;5;28;43mself\u001b[39;49m\u001b[38;5;241;43m.\u001b[39;49m\u001b[43m_reStarter\u001b[49m\u001b[43m(\u001b[49m\u001b[43mcursor\u001b[49m\u001b[43m,\u001b[49m\u001b[43m \u001b[49m\u001b[43mquery_id\u001b[49m\u001b[43m,\u001b[49m\u001b[43m \u001b[49m\u001b[43mconsulta\u001b[49m\u001b[43m,\u001b[49m\u001b[43m \u001b[49m\u001b[43mend\u001b[49m\u001b[38;5;241;43m=\u001b[39;49m\u001b[43mend\u001b[49m\u001b[43m)\u001b[49m\n\u001b[0;32m   1102\u001b[0m \u001b[38;5;66;03m# Controles en tiempo real\u001b[39;00m\n\u001b[0;32m   1103\u001b[0m \u001b[38;5;28;01mif\u001b[39;00m \u001b[38;5;28mself\u001b[39m\u001b[38;5;241m.\u001b[39mctrls \u001b[38;5;241m!=\u001b[39m {}:\n",
      "File \u001b[1;32mc:\\Banco\\Prueba Modelos\\prueba-modelos\\venv\\lib\\site-packages\\helper\\helper.py:780\u001b[0m, in \u001b[0;36mHelper._reStarter\u001b[1;34m(self, cursor, query_id, consulta, con_resumen, end, tries)\u001b[0m\n\u001b[0;32m    777\u001b[0m     \u001b[38;5;28mself\u001b[39m\u001b[38;5;241m.\u001b[39mlogger\u001b[38;5;241m.\u001b[39m_reportar(query_id, estado\u001b[38;5;241m=\u001b[39m\u001b[38;5;124mf\u001b[39m\u001b[38;5;124m'\u001b[39m\u001b[38;5;124mintento \u001b[39m\u001b[38;5;132;01m{\u001b[39;00mtries\u001b[38;5;132;01m}\u001b[39;00m\u001b[38;5;124m'\u001b[39m)\n\u001b[0;32m    778\u001b[0m \u001b[38;5;28;01mtry\u001b[39;00m:\n\u001b[0;32m    779\u001b[0m     \u001b[38;5;66;03m# Intentar\u001b[39;00m\n\u001b[1;32m--> 780\u001b[0m     \u001b[43mcursor\u001b[49m\u001b[38;5;241;43m.\u001b[39;49m\u001b[43mexecute\u001b[49m\u001b[43m(\u001b[49m\u001b[43mconsulta\u001b[49m\u001b[43m)\u001b[49m\n\u001b[0;32m    781\u001b[0m     \u001b[38;5;66;03m# self.logger.finaliza_consulta(query_id, end=end)\u001b[39;00m\n\u001b[0;32m    782\u001b[0m     \u001b[38;5;28;01mreturn\u001b[39;00m cursor\n",
      "\u001b[1;31mError\u001b[0m: ('HY000', '[HY000] [Cloudera][ImpalaODBC] (110) Error while executing a query in Impala: [HY000] : ParseException: Syntax error in line 2:\\nINVALIDATE METADATA proceso.pmod_tend_tabla_base;\\n^\\nEncountered: INVALIDATE\\nExpected: ADD, ALTER, AND, ARRAY, AS, ASC, BETWEEN, BIGINT, BINARY, BLOCK_SIZE, BOOLEAN, CACHED, CASCADE, CHANGE, CHAR, COMMENT, COMPRESSION, CROSS, DATE, DATETIME, DECIMAL, DEFAULT, DESC, DIV, REAL, DROP, ELSE, ENCODING, END, FLOAT, FOLLOWING, FROM, FULL, GROUP, IGNORE, HAVING, ILIKE, IN, INNER, INTEGER, IREGEXP, IS, JOIN, LEFT, LIKE, LIMIT, LOCATION, MANAGEDLOCATION, MAP, NOT, NULL, NULLS, OFFSET, ON, OR, ORDER, PARTITION, PARTITIONED, PRECEDING, PRIMARY, PURGE, RANGE, RECOVER, REGEXP, RENAME, REPLACE, RESTRICT, RIGHT, RLIKE, ROW, ROWS, SELECT, SET, SMALLINT, SORT, STORED, STRAIGHT_JOIN, STRING, STRUCT, TABLESAMPLE, TBLPROPERTIES, THEN, TIMESTAMP, TINYINT, TO, UNCACHED, UNION, USING, VALUES, VARCHAR, WHEN, WHERE, WITH, COMMA, IDENTIFIER\\n\\nCAUSED BY: Exception: Syntax error\\n (110) (SQLExecDirectW)')"
     ]
    }
   ],
   "source": [
    "for var in vars_tend:\n",
    "    print(\"Calculando Tendencias: \", var)\n",
    "    params_tend['variable'] = var\n",
    "    helper.ejecutar_archivo('1_pmod_tendencias.sql', params=params_tend)\n",
    "    break"
   ]
  },
  {
   "cell_type": "code",
   "execution_count": null,
   "metadata": {},
   "outputs": [],
   "source": []
  }
 ],
 "metadata": {
  "kernelspec": {
   "display_name": "venv",
   "language": "python",
   "name": "python3"
  },
  "language_info": {
   "codemirror_mode": {
    "name": "ipython",
    "version": 3
   },
   "file_extension": ".py",
   "mimetype": "text/x-python",
   "name": "python",
   "nbconvert_exporter": "python",
   "pygments_lexer": "ipython3",
   "version": "3.9.12"
  }
 },
 "nbformat": 4,
 "nbformat_minor": 2
}
